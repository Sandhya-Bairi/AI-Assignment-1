{
 "cells": [
  {
   "cell_type": "code",
   "execution_count": 1,
   "metadata": {},
   "outputs": [
    {
     "name": "stderr",
     "output_type": "stream",
     "text": [
      "Using TensorFlow backend.\n"
     ]
    },
    {
     "name": "stdout",
     "output_type": "stream",
     "text": [
      "(60000, 'train samples')\n",
      "(10000, 'test samples')\n"
     ]
    }
   ],
   "source": [
    "import numpy as np\n",
    "np.random.seed(1337) # for reproducibility\n",
    "\n",
    "import os\n",
    "from keras.datasets import mnist\n",
    "from keras.models import Sequential\n",
    "from keras.layers.core import Dense, Dropout, Activation\n",
    "from keras.optimizers import RMSprop\n",
    "from keras.utils import np_utils\n",
    "\n",
    "batch_size = 128 #Number of images used in each optimization step\n",
    "nb_classes = 10 #One class per digit\n",
    "nb_epoch = 20 #Number of times the whole data is used to learn\n",
    "\n",
    "(X_train, y_train), (X_test, y_test) = mnist.load_data()\n",
    "\n",
    "#Flatten the data, MLP doesn't use the 2D structure of the data. 784 = 28*28\n",
    "X_train = X_train.reshape(60000, 784)\n",
    "X_test = X_test.reshape(10000, 784)\n",
    "\n",
    "#Make the value floats in [0;1] instead of int in [0;255]\n",
    "X_train = X_train.astype('float32')\n",
    "X_test = X_test.astype('float32')\n",
    "X_train /= 255\n",
    "X_test /= 255\n",
    "\n",
    "#Display the shapes to check if everything's ok\n",
    "print(X_train.shape[0], 'train samples')\n",
    "print(X_test.shape[0], 'test samples')\n"
   ]
  },
  {
   "cell_type": "code",
   "execution_count": 2,
   "metadata": {},
   "outputs": [
    {
     "name": "stderr",
     "output_type": "stream",
     "text": [
      "/usr/local/lib/python2.7/dist-packages/keras/models.py:944: UserWarning: The `nb_epoch` argument in `fit` has been renamed `epochs`.\n",
      "  warnings.warn('The `nb_epoch` argument in `fit` '\n"
     ]
    },
    {
     "name": "stdout",
     "output_type": "stream",
     "text": [
      "Train on 60000 samples, validate on 10000 samples\n",
      "Epoch 1/20\n",
      " - 15s - loss: 0.2427 - acc: 0.9252 - val_loss: 0.1204 - val_acc: 0.9628\n",
      "Epoch 2/20\n",
      " - 14s - loss: 0.1014 - acc: 0.9688 - val_loss: 0.0793 - val_acc: 0.9761\n",
      "Epoch 3/20\n",
      " - 15s - loss: 0.0762 - acc: 0.9768 - val_loss: 0.0828 - val_acc: 0.9752\n",
      "Epoch 4/20\n",
      " - 17s - loss: 0.0615 - acc: 0.9818 - val_loss: 0.0993 - val_acc: 0.9738\n",
      "Epoch 5/20\n",
      " - 17s - loss: 0.0501 - acc: 0.9851 - val_loss: 0.0770 - val_acc: 0.9796\n",
      "Epoch 6/20\n",
      " - 18s - loss: 0.0436 - acc: 0.9868 - val_loss: 0.0797 - val_acc: 0.9794\n",
      "Epoch 7/20\n",
      " - 16s - loss: 0.0388 - acc: 0.9887 - val_loss: 0.0714 - val_acc: 0.9828\n",
      "Epoch 8/20\n",
      " - 15s - loss: 0.0347 - acc: 0.9899 - val_loss: 0.0818 - val_acc: 0.9832\n",
      "Epoch 9/20\n",
      " - 15s - loss: 0.0320 - acc: 0.9905 - val_loss: 0.0781 - val_acc: 0.9837\n",
      "Epoch 10/20\n",
      " - 14s - loss: 0.0271 - acc: 0.9924 - val_loss: 0.0874 - val_acc: 0.9829\n",
      "Epoch 11/20\n",
      " - 15s - loss: 0.0238 - acc: 0.9930 - val_loss: 0.0854 - val_acc: 0.9832\n",
      "Epoch 12/20\n",
      " - 14s - loss: 0.0249 - acc: 0.9929 - val_loss: 0.0996 - val_acc: 0.9822\n",
      "Epoch 13/20\n",
      " - 14s - loss: 0.0237 - acc: 0.9936 - val_loss: 0.1047 - val_acc: 0.9815\n",
      "Epoch 14/20\n",
      " - 14s - loss: 0.0208 - acc: 0.9942 - val_loss: 0.0946 - val_acc: 0.9831\n",
      "Epoch 15/20\n",
      " - 15s - loss: 0.0205 - acc: 0.9946 - val_loss: 0.1063 - val_acc: 0.9811\n",
      "Epoch 16/20\n",
      " - 14s - loss: 0.0206 - acc: 0.9943 - val_loss: 0.0912 - val_acc: 0.9839\n",
      "Epoch 17/20\n",
      " - 16s - loss: 0.0192 - acc: 0.9947 - val_loss: 0.1051 - val_acc: 0.9833\n",
      "Epoch 18/20\n",
      " - 15s - loss: 0.0195 - acc: 0.9950 - val_loss: 0.1038 - val_acc: 0.9830\n",
      "Epoch 19/20\n",
      " - 16s - loss: 0.0163 - acc: 0.9956 - val_loss: 0.1171 - val_acc: 0.9823\n",
      "Epoch 20/20\n",
      " - 15s - loss: 0.0173 - acc: 0.9956 - val_loss: 0.1173 - val_acc: 0.9837\n",
      "('Test score:', 0.11727102948051579)\n",
      "('Test accuracy:', 0.9837)\n"
     ]
    }
   ],
   "source": [
    "\n",
    "# convert class vectors to binary class matrices (ie one-hot vectors)\n",
    "Y_train = np_utils.to_categorical(y_train, nb_classes)\n",
    "Y_test = np_utils.to_categorical(y_test, nb_classes)\n",
    "\n",
    "#Define the model achitecture\n",
    "model = Sequential()\n",
    "model.add(Dense(512, input_shape=(784,)))\n",
    "model.add(Activation('relu'))\n",
    "model.add(Dropout(0.2))\n",
    "model.add(Dense(512))\n",
    "model.add(Activation('relu'))\n",
    "model.add(Dropout(0.2))\n",
    "model.add(Dense(10)) #Last layer with one output per class\n",
    "model.add(Activation('softmax')) #We want a score simlar to a probability for each class\n",
    "\n",
    "#Use rmsprop to do the gradient descent see http://www.cs.toronto.edu/~tijmen/csc321/slides/lecture_slides_lec6.pdf\n",
    "#and http://cs231n.github.io/neural-networks-3/#ada\n",
    "rms = RMSprop()\n",
    "#The function to optimize is the cross entropy between the true label and the output (softmax) of the model\n",
    "model.compile(loss='categorical_crossentropy', optimizer=rms, metrics=[\"accuracy\"])\n",
    "\n",
    "#Make the model learn\n",
    "model.fit(X_train, Y_train,\n",
    "batch_size=batch_size, nb_epoch=nb_epoch,\n",
    "verbose=2,\n",
    "validation_data=(X_test, Y_test))\n",
    "\n",
    "#Evaluate how the model does on the test set\n",
    "score = model.evaluate(X_test, Y_test, verbose=0)\n",
    "\n",
    "print('Test score:', score[0])\n",
    "print('Test accuracy:', score[1])"
   ]
  }
 ],
 "metadata": {
  "kernelspec": {
   "display_name": "Python 2",
   "language": "python",
   "name": "python2"
  },
  "language_info": {
   "codemirror_mode": {
    "name": "ipython",
    "version": 2
   },
   "file_extension": ".py",
   "mimetype": "text/x-python",
   "name": "python",
   "nbconvert_exporter": "python",
   "pygments_lexer": "ipython2",
   "version": "2.7.12"
  }
 },
 "nbformat": 4,
 "nbformat_minor": 2
}
